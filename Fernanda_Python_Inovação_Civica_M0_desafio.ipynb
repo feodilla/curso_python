{
  "nbformat": 4,
  "nbformat_minor": 0,
  "metadata": {
    "colab": {
      "name": "Fernanda_Python_Inovação Civica_M0_desafio.ipynb",
      "provenance": [],
      "authorship_tag": "ABX9TyPgR/v6/70iGVhEkdf5SRIK",
      "include_colab_link": true
    },
    "kernelspec": {
      "name": "python3",
      "display_name": "Python 3"
    },
    "language_info": {
      "name": "python"
    }
  },
  "cells": [
    {
      "cell_type": "markdown",
      "metadata": {
        "id": "view-in-github",
        "colab_type": "text"
      },
      "source": [
        "<a href=\"https://colab.research.google.com/github/feodilla/curso_python/blob/main/Fernanda_Python_Inova%C3%A7%C3%A3o_Civica_M0_desafio.ipynb\" target=\"_parent\"><img src=\"https://colab.research.google.com/assets/colab-badge.svg\" alt=\"Open In Colab\"/></a>"
      ]
    },
    {
      "cell_type": "code",
      "metadata": {
        "colab": {
          "base_uri": "https://localhost:8080/"
        },
        "id": "b1gltqiGlgPu",
        "outputId": "efc3e1ce-5bc4-432a-ce1f-93d7fd37797d"
      },
      "source": [
        "num1 = int(input('Digite o 1º número:'))\n",
        "num2 = int(input('Digite o 2º número:'))\n",
        "num3 = int(input('Digite o 3º número:'))\n",
        "soma = num1 + num2 + num3\n",
        "print(f'Entrada: {num1}, {num2}, {num3}')\n",
        "print(f'Processamento: {num1} + {num2} + {num3}')\n",
        "print(f'Saída: {soma}')\n"
      ],
      "execution_count": null,
      "outputs": [
        {
          "output_type": "stream",
          "text": [
            "Digite o 1º número:15\n",
            "Digite o 2º número:10\n",
            "Digite o 3º número:30\n",
            "Entrada: 15, 10, 30\n",
            "Processamento: 15 + 10 + 30\n",
            "Saída: 55\n"
          ],
          "name": "stdout"
        }
      ]
    },
    {
      "cell_type": "markdown",
      "metadata": {
        "id": "4LQeRpyylmHc"
      },
      "source": [
        ""
      ]
    },
    {
      "cell_type": "code",
      "metadata": {
        "id": "X3i2gXwmlmie"
      },
      "source": [
        ""
      ],
      "execution_count": null,
      "outputs": []
    },
    {
      "cell_type": "markdown",
      "metadata": {
        "id": "IeuekBkylgzl"
      },
      "source": [
        "**Conferir e corrigir código abaixo **\n",
        "\n",
        "num1 = int(input('Digite o 1º número: '))\n",
        "\n",
        "num2 = input('Digite o 2º número: ')\n",
        "\n",
        "num3 = int(input(Digite o 3º número: ))\n",
        "\n",
        "soma = num1 + \n",
        "\n",
        "print(f'Entrada: {num1}, {num2}')\n",
        "\n",
        "print(f'Processamento: ')\n",
        "\n",
        "print(Saída: )\n"
      ]
    }
  ]
}